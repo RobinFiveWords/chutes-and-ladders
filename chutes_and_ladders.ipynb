{
 "cells": [
  {
   "cell_type": "markdown",
   "id": "06a6553c-6717-4a4a-b805-92e02c98e74e",
   "metadata": {},
   "source": [
    "# What is the EXACT probability of winning Chutes and Ladders?"
   ]
  },
  {
   "cell_type": "markdown",
   "id": "7e2c8f09-0846-45a0-b3fe-e52125e609de",
   "metadata": {},
   "source": [
    "My kids like to joke that each game's instructions include the rule: \"Daddy goes last.\" How much of an advantage does this give them?\n",
    "\n",
    "Exploring this question for the game of Chutes and Ladders led me first to a picture of diagonal squares that has been stuck in my head for twenty years, and later to a fraction that to my knowledge no one has seen before.\n",
    "\n",
    "I hope you'll come away with at least a couple of ideas:\n",
    "- The picture of small squares along the diagonal of a larger square.\n",
    "- The sense that we can often find ways to add instead of count, multiply instead of add, and avoid certain calculations altogether."
   ]
  },
  {
   "cell_type": "markdown",
   "id": "297ab822-9ae1-4af5-b529-e2d6fc2357fe",
   "metadata": {},
   "source": [
    "<div align=\"center\">\n",
    "  <img src=\"img/visual01.png\" alt=\"Logo with squares of various sizes and colors along the diagonal of a larger square.\">\n",
    "</div>"
   ]
  },
  {
   "cell_type": "markdown",
   "id": "f2818379-2961-45be-9ba5-f7557d71de9a",
   "metadata": {},
   "source": [
    "## The Approach"
   ]
  },
  {
   "attachments": {},
   "cell_type": "markdown",
   "id": "c9432117-44db-441f-997d-72e08d5e3553",
   "metadata": {},
   "source": [
    "We're going to try to determine **the probability that the first player wins a two-player game of Chutes and Ladders**, using the [classic Milton Bradley/Hasbro board](https://en.wikipedia.org/wiki/Snakes_and_ladders#/media/File:Cnl03.jpg). If we play a larger and larger number of games, the portion of all games that the first player has won should get closer and closer to this true probability. So let's start by doing that somewhat literally. We can write a computer program that simulates a two-player game and let it play a large number of games. We have a board with squares from 1 to 100, and we'll consider the starting position to be square 0. If a player ends their turn on square 100, they win.\n",
    "\n",
    "<div align=\"center\">\n",
    "  <img src=\"https://upload.wikimedia.org/wikipedia/en/b/ba/Cnl03.jpg\" alt=\"Wikipedia.org image of Milton Bradley/Hasbro Chutes and Ladders board\">\n",
    "</div>\n",
    "\n",
    "On each player's turn, they spin a random number between 1 and 6, and they try to move forward that many squares. If that would put them beyond square 100, they stay in the square they were in. Otherwise, they move to that new square, ignoring any chutes or ladders on squares in between. Before their turn ends, if that new square is the top of a chute, they move to the square at the chute's bottom. If the new square is the bottom of a ladder, they move to the square at the ladder's top. Let's also note that the players do not interact with each other in any way. They can pass over each other or end their turn on the same square the other is on.\n",
    "\n",
    "Computers are fast. We might be able to simulate 10,000 games in one second. So let's do that. How many did the first player win?\n",
    "\n",
    "```\n",
    "5116\n",
    "```\n",
    "\n",
    "That passes some sanity checks — we expect the first player to have an advantage and therefore win more than half the time, but because it takes so many moves, maybe the advantage is very small. Let's run the 10,000-game simulation a few more times.\n",
    "\n",
    "```\n",
    "5028, 5139, 5077, 5127, 5072, 5077, 5026, 4988, 5067, 5001\n",
    "```\n",
    "\n",
    "Hmm. There's a good bit of variation there. It even dropped below 50% one time. If we want a very accurate estimate, we may have to simulate a very large number of games. One reason our simulation does not quickly give us precise results is that we are simulating one game at a time. Perhaps we can find a way to simulate many games at once.\n",
    "\n",
    "Let's imagine that instead of stopping the game when a player wins, we let the other player keep going until they also reach square 100. This does not change the result of the game (although it often makes that player feel better!). Now let's imagine that instead of alternating turns, we let each player take all their turns at once, for as many spins as it takes. When they're both done, we compare how many turns it took each player to reach square 100. If player two took fewer turns, player two wins, otherwise player one wins. This still does not change the result of the game versus our previous modification — both players spun as many times as it took to reach square 100, and the winner is the same as if they had alternated turns.\n",
    "\n",
    "This gives us a new way to simulate a two-player game: simulate two one-player games and compare how many turns each took to reach square 100. But we don't have to simulate just two one-player games at a time. We can simulate a large number of one-player games, and then face them off against each other. If we simulate 10,000 one-player games, we can use the results to effectively simulate 10,000 * 10,000 = 100,000,000 two-player games!\n",
    "\n",
    "So let's simulate 10,000 one-player games and take a look at the results. The most common numbers of turns were 21 (280 games) and 23 (248 games). The fewest number of turns was 7 (15 games) and the largest number of turns was 213 (1 game). Let's sort these results by the number of turns.\n",
    "\n",
    "<div align=\"center\">\n",
    "  <img src=\"img/visual02.png\" alt=\"Chart showing a column for each number of turns with width indicating frequency of that result. 7, 21, and 213 are highlighted.\">\n",
    "</div>\n",
    "\n",
    "We can now face off each of these results against a copy of the same results. We'll measure player one across the top and player two down the left. Let's pick one of these matchups, let's say a result of 24 for player one and 80 for player two. Player one wins this matchup:\n",
    "\n",
    "<div align=\"center\">\n",
    "  <img src=\"img/visual04.png\" alt=\"Square chart with the point for player one's 24 and player two's 80 marked with a green circle.\">\n",
    "</div>\n",
    "\n",
    "However, because we're going to consider all possible matchups, it is equally likely that player one plays that exact game ending in 80 moves, player two plays that exact game ending in 24 moves, and player two wins.\n",
    "\n",
    "<div align=\"center\">\n",
    "  <img src=\"img/visual05.png\" alt=\"Square chart with the point for player one's 24 and player two's 80 marked with a green circle, and the point for player one's 80 and player two's 24 marked with a purple square.\">\n",
    "</div>\n",
    "\n",
    "For each point below the diagonal, there is a corresponding point above the diagonal. As long as the two results took a different number of turns, player one wins one of the matchups and player two wins the other. Player one's advantage, and the only reason the answer isn't just 50%, is that if both players take the same number of turns, player one wins, and reflecting over the . We can represent this visually with squares along the diagonal:\n",
    "\n",
    "<div align=\"center\">\n",
    "  <img src=\"img/visual06.png\" alt=\"Square chart with smaller squares aligned corner-to-corner on the diagonal from upper-left to lower-right.\">\n",
    "</div>\n",
    "\n",
    "Let's take a closer look at the upper corner:\n",
    "\n",
    "<div align=\"center\">\n",
    "  <img src=\"img/visual07.png\" alt=\"Zoomed-in upper-left corner of square chart, showing the diagonal squares for 7 moves, 8, 9, 10, and part of 11.\">\n",
    "</div>\n",
    "\n",
    "We can use these diagonal squares to describe how often player one wins. Player one wins everywhere below the diagonal and everywhere in the diagonal squares. Because the diagonal squares are each split in half by the diagonal, **the total area in which player one wins is the half of the big square plus half — the other half — of each diagonal square.**\n",
    "\n",
    "<div align=\"center\">\n",
    "  <img src=\"img/visual08.png\" alt=\"Zoomed-in upper-left corner of square chart, showing the diagonal squares for 7 moves, 8, 9, 10, and part of 11; with the diagonal drawn in with a dashed line; and the area where player one wins shaded green.\">\n",
    "</div>\n",
    "\n",
    "We could measure this area using the number of games we simulated. The big square would be 10,000 games tall and 10,000 games wide, and the diagonal square for 7 would have a size of 15 * 15 = 225. Alternately, we could treat the big square as having a size of 1, or 100%. Then the diagonal square for 7 would have a size of 15/10,000 * 15/10,000 = 225/100,000,000, or 0.000225%. When we add up the area of each diagonal square, divide the total by two, and add one-half, we get our estimate of the true probability:\n",
    "\n",
    "```\n",
    "50.774533%\n",
    "```\n",
    "\n",
    "That's a lot of decimal places. How precise is this really? Let's run this version of the simulation a few more times:\n",
    "\n",
    "```\n",
    "50.785445%\n",
    "50.794481%\n",
    "50.780130%\n",
    "50.776591%\n",
    "```\n",
    "\n",
    "Okay, we can be pretty confident the true probability is in the ballpark of 50.78%. How much better can we do?\n",
    "\n",
    "To make our diagonal squares estimate more accurate, we can try to find the exact probability that a one-player game ends in each number of moves, which will give us the exact size of each diagonal square. Let's start by thinking about where the player is at the start of the game. The probability that the player is on square 0 is 1, and the probability that the player is on any other square is 0. After the player's first move — note that there are ladders on squares 1 and 4 — there is a 1/6 chance that the player ends up on each of squares 2, 3, 5, 6, 14, and 38:\n",
    "\n",
    "<div align=\"center\">\n",
    "  <img src=\"img/visual09.png\" alt=\"Starting probability of 1 in square 0 shown distributed across a row of possible landing squares, each with probability 1/6.\">\n",
    "</div>\n",
    "\n",
    "For the player's second move, we have the starting probability that they were on each square — now zero for 0, and now 1/6 for 2, 3, 5, 6, 14, 38 — and we multiply this by 1/6 for each possible spin:\n",
    "\n",
    "<div align=\"center\">\n",
    "  <img src=\"img/visual10.png\" alt=\"Starting probability of 1/6 in each of 6 squares after first move, shown distributed across a row of possible landing squares, each with probability 1/6.\">\n",
    "</div>\n",
    "\n",
    "By adding up each column, we get the total probability that the player ends the second move on each square. We start to see some overlap here. There are two ways to end up on square 5 after two turns, four ways to end up on 6, and even three ways to end up on 31:\n",
    "\n",
    "<div align=\"center\">\n",
    "  <img src=\"img/visual11.png\" alt=\"Previous diagram with row of sums at top showing total probability of each possible landing square.\">\n",
    "</div>\n",
    "\n",
    "We can repeat this for each turn. After move 7, we get our first arrivals on square 100. It turns out there are 438 ways to end up on square 100 after 7 turns, and in lowest terms that probability is 73/46,656. This is the length of the side of our first diagonal square!\n",
    "\n",
    "On move 8, we have new arrivals on square 100 totaling 205/46,656, which is the length of the second diagonal square. On move 9, 70,579/10,077,696. That denominator is starting to get a bit large, so before we continue, let's think about what conclusions we can draw so far.\n",
    "\n",
    "We know that the exact probability that player one wins is **at least** one-half plus half the area of each diagonal square we've determined so far. This is like assuming the diagonal squares stop, and it's just a diagonal line the rest of the way:\n",
    "\n",
    "<div align=\"center\">\n",
    "  <img src=\"img/visual12.png\" alt=\"Square chart with first three diagonal squares shaded green but only below the diagonal shaded green the rest of the way.\">\n",
    "</div>\n",
    "\n",
    "The **largest** the exact probability could be is if all games that had not ended, as of the move where we stopped, ended on the same future move, let's say the very next move. This would give us one more diagonal square, taking up all the remaining area down and to the right:\n",
    "\n",
    "<div align=\"center\">\n",
    "  <img src=\"img/visual13.png\" alt=\"Square chart with first three diagonal squares shaded green and one more diagonal square covering the rest of the diagonal and shaded green.\">\n",
    "</div>\n",
    "\n",
    "Note that these last two images are zoomed in, showing only one-tenth of the height and width of the full square.\n",
    "\n",
    "After move 9, we can say the exact probability is between 50.0035% and 98.7157%. This is not great! But as we keep adding more diagonal squares, these lower and upper bounds get much closer together. After move 100, the lower bound is 50.7791999% and the upper bound is 50.8324577%. After move 500 — which a computer can calculate in less than one minute — the bounds are so close that we know the exact probability, written as a percentage, starts with the digits 50.78027734609139%. This is much more precise than we would ever need for any real-world problem. Not even NASA needs this many significant digits.\n",
    "\n",
    "And yet...this is not the exact answer. Can we find the exact answer? What kind of number is it? Can we write it exactly as a fraction or a decimal?\n",
    "\n",
    "Let's think about what we know to be exactly true about the probability that player one wins. We know that one of six things will happen on player one's first move, and each is equally likely, so each has a one-sixth probability of happening. Which lets us say this:\n",
    "\n",
    "$$\n",
    "\\begin{align}\n",
    "\\text{The p}&\\text{robability that player one wins} \\nonumber \\\\\n",
    "    = \\, &1/6 * (\\text{the probability that player one wins, having started with a 1}) \\nonumber \\\\\n",
    "    + \\, &1/6 * (\\text{the probability that player one wins, having started with a 2}) \\nonumber \\\\\n",
    "    + \\, &1/6 * (\\text{the probability that player one wins, having started with a 3}) \\nonumber \\\\\n",
    "    + \\, &1/6 * (\\text{the probability that player one wins, having started with a 4}) \\nonumber \\\\\n",
    "    + \\, &1/6 * (\\text{the probability that player one wins, having started with a 5}) \\nonumber \\\\\n",
    "    + \\, &1/6 * (\\text{the probability that player one wins, having started with a 6}) \\nonumber\n",
    "\\end{align}\n",
    "$$\n",
    "\n",
    "We will need to change this description of player one's first move in ways that let us connect it with the rest of the game.\n",
    "\n",
    "Let's start with this: At any point in the game, the probability that the player whose turn it is will eventually win depends only on what squares they and their opponent are on, regardless of which was player one and which was player two. Let’s write $P(A,B)$ to mean the probability that the player whose turn it is will eventually win, given that they are on square A and their opponent is on square B. This lets us start to rewrite our description, like this:\n",
    "\n",
    "$$\n",
    "\\begin{align}\n",
    "P(0,0) = \\, &1/6 * \\text{(the probability that player one wins, having started with a 1)} \\nonumber \\\\\n",
    "+ \\, &\\text{...} \\nonumber\n",
    "\\end{align}\n",
    "$$\n",
    "\n",
    "Let's focus on that first outcome, where player one starts with a 1 (which has a ladder, leaving player one on square 38). After player one's turn, the player whose turn it is now (player two) will be on square 0, and their opponent (now player one) will be on square 38. It feels like we should use $P(0,38)$ for that probability, except in this situation $P(0,38)$ is the probability that player two wins, and our description asks for the probability that player one wins.\n",
    "\n",
    "We can get what we need like this: At any point in the game, if one player’s probability of winning is $X$, their opponent’s probability of winning is $1 \\, – \\, X$, because the two probabilities must add up to 1. So the probability that player one wins, having started with a 1, is $1 \\, – \\, P(0,38)$. We can rewrite the entire description of player one's first move like this:\n",
    "\n",
    "$$\n",
    "\\begin{align}\n",
    "P(0,0) = \\, &1/6 * ( 1 \\, – \\, P(0,38) ) \\nonumber \\\\\n",
    "+ \\, &1/6 * ( 1 \\, – \\, P(0,2) ) \\nonumber \\\\\n",
    "+ \\, &1/6 * ( 1 \\, – \\, P(0,3) ) \\nonumber \\\\\n",
    "+ \\, &1/6 * ( 1 \\, – \\, P(0,14) ) \\nonumber \\\\\n",
    "+ \\, &1/6 * ( 1 \\, – \\, P(0,5) ) \\nonumber \\\\\n",
    "+ \\, &1/6 * ( 1 \\, – \\, P(0,6) ) \\nonumber\n",
    "\\end{align}\n",
    "$$\n",
    "\n",
    "(1 lands on ladder from 1 to 38. 4 lands on ladder from 4 to 14.)\n",
    "\n",
    "For each possible combination of the players' current squares — each possible position of two players — we can write a description in the same way. One thing we should think through is what the description should look like when the player whose turn it is may land on square 100. If they spin the number they need to win, they just win. That 1/6 doesn't need a (1 – ...) part, it's just 1/6. For example:\n",
    "\n",
    "$$\n",
    "\\begin{align}\n",
    "P(94,99) = \\, &1/6 * ( 1 \\, – \\, P(99,75) ) \\nonumber \\\\\n",
    "+ \\, &1/6 * ( 1 \\, – \\, P(99,96) ) \\nonumber \\\\\n",
    "+ \\, &1/6 * ( 1 \\, – \\, P(99,97) ) \\nonumber \\\\\n",
    "+ \\, &1/6 * ( 1 \\, – \\, P(99,78) ) \\nonumber \\\\\n",
    "+ \\, &1/6 * ( 1 \\, – \\, P(99,99) ) \\nonumber \\\\\n",
    "+ \\, &1/6 \\nonumber\n",
    "\\end{align}\n",
    "$$\n",
    "\n",
    "(1 lands on chute from 95 to 75. 4 lands on chute from 98 to 78. 6 lands on 100 and wins.)\n",
    "\n",
    "To sum up: We can write one of these descriptions for each possible position where there is still more game to play. For any given description, each unknown probability on the right-hand side has its own description where it appears alone on the left-hand side. We are doing basic arithmetic with these unknowns and never multiplying or dividing two unknowns together.\n",
    "\n",
    "What we have here is a **system of linear equations**. We can solve these! Not only that, the fact that only fractions and whole numbers appear along with the unknowns means all of the exact probabilities can be written as fractions (they are rational numbers). So our answer will be a fraction. Okay, let's do this!\n",
    "\n",
    "(runs program)\n",
    "\n",
    "...\n",
    "\n",
    "...\n",
    "\n",
    "(program still running two days later)\n",
    "\n",
    "Here's the problem: Completely solving this system of linear equations, while maintaining exact fractions, requires multiplying or subtracting two fractions around 510 million times in total. For most of these calculations, the fractions have denominators that are thousands of digits long. Even if a computer could do hundreds of these calculations per second, it would still take weeks or even months to finish them all. Is there a way to avoid some of these calculations?\n",
    "\n",
    "One approach to solving a system of linear equations is Gaussian elimination. In Gaussian elimination, we add or subtract copies of one equation from another, to zero out some of the unknowns. Eventually each equation is reduced to having only one unknown and the value it is equal to. For example, if we start with these two equations with the two unknowns x and y:\n",
    "\n",
    "<pre><span style=\"color:#5D3A9B\"> x +  y = 8</span>\n",
    "<span style=\"color:#E66100\">2x + 4y = 22</span></pre>\n",
    "\n",
    "We can subtract twice the top row from the bottom row:\n",
    "\n",
    "<pre><span style=\"color:#E66100\">2x </span><span style=\"color:#5D3A9B\">– 2x </span><span style=\"color:#E66100\">+ 4y </span><span style=\"color:#5D3A9B\">– 2y </span><span style=\"color:#E66100\">= 22 </span><span style=\"color:#5D3A9B\">– 16</span></pre>\n",
    "\n",
    "This simplifies to:\n",
    "\n",
    "```\n",
    "0x + 2y = 6\n",
    "```\n",
    "\n",
    "Which means:\n",
    "\n",
    "```\n",
    "y = 3\n",
    "```\n",
    "\n",
    "Here's our work in progress:\n",
    "\n",
    "```\n",
    "x + y = 8\n",
    "    y = 3\n",
    "```\n",
    "\n",
    "We can then substitute the value for y into the first equation to solve for x. In a larger system of equations, we follow the same steps, just many more times. But look back at that last pair of equations. The first unknown we solved for was y. What if the value of y was what we were after all along? We could skip all the remaining calculations.\n",
    "\n",
    "For Chutes and Ladders, most of the calculations and most of the very long denominators are in that remainder. If we arrange our equations so that $P(0,0)$ is the first unknown we will solve for, and then we stop, the number of calculations drops to around 56 million, and the size of the denominators stays small enough that within a few hours we can calculate the exact answer."
   ]
  },
  {
   "cell_type": "markdown",
   "id": "c269785f-2afd-4b2c-9982-28d7e3d90ad8",
   "metadata": {},
   "source": [
    "## The Answer"
   ]
  },
  {
   "cell_type": "markdown",
   "id": "70f3e5d8-9a30-4da9-8ee7-f29a0d8e0f70",
   "metadata": {},
   "source": [
    "The numerator and denominator each have 4,453 digits:"
   ]
  },
  {
   "attachments": {},
   "cell_type": "markdown",
   "id": "45ff86a2-ece7-49d2-832c-aa6b0d0f2956",
   "metadata": {},
   "source": [
    "```\n",
    "1809263326709967051434347748525524552353980736578570502627590624764847314355017039986104115847991384234662504363231466556985613757780988520248565824574408393552615380403519856337917904701957187045977231110900180221321700016323386317873465278539432717441580849567573763198571783691008196513040227320444259333668655904354638184885203732951005860075558037455260709968792169797211315388487495736543600141105406514223050890185979123942182160579007991165046575087133020637841513472458701447995609783728952820883083133467300301797183623285028134680734192863955960869149355908517132878268860120244568889212288296251127692466318894405045567415416297421102691445748223662107348226671486641360646416666544301997723279153560744894981278534523632702072407639621526133837472033293519393378064191283327302938057985527706052299959262279052696303444320893079294163470093025047542661982066478355416786486643262807218542322327801528919492821884568466005036364414079531413905016854354987031751738176660536568768394882466528787938033486013039010566818026032353210417984253298851914160586106855821775382961670199120181389897633546604308241383809623868294160088201129933612552912259128835897621946525206514135905582202658646367051035380933843504183539248284055678405008218722065238585409775644230120606246916360864308768445240853406760656719124431148801134288566469343559768847639184498961165230793430338640486427792532585916925598757526769586048047138642837038001950771511211755686544661234407486746359381890395210332672663825680607262301742383396135843902438083209410241949585561476947147437558824740984071750683435323210066601143940505283747615159833356640102075678487380750212696222871349228888290974743738575064847651756083729796410167122126348746744612649428530828450306063912830861027612755759572433896788451992869437969248939588997516882164250962283664823763030632814427203578208140396728228538756292449088708378105601724334289245023859881599960206367879528176671687360382920255222569654785175711767622820090311684051304045716677251794132789057109725158680770680261532726127185796478956942898755190663133000504292823580804477297320493223739581405179696751821516354574326891922972669548964541338587448728652722911703330713132125405574177489514621546749197018207987586224619078772303452413680414435983821515595216498122522054770757833618271779849077910639961478890291717496342851762695639988559766123979825935469788170403186576837473116127993927444778994020876456181750248020059697283142546379101588537163020990745640286443723516631362168574538779693815164927490805653793897423238023726112874428679726060077405104412724889180940978900686309645336254723335455642204598004279668434083520895051656387777821778853438397606811491540313845823674269882487521182935482070011929420963258162573944473755512897169073906252090520302358390666253498663475888930120219376120970377129300787850086662646229982685010583713658247990087089651536946163924037120580280747501391113872738502404376460210489058497878869369811253579136681354537530409613425521438343328000377421586090490446782368765468152505866200366387427541743492125011418881220115742446723154530177665650660791112228154745574711750200437718739211699622830776692942663820049611161234158983520941736095930746062943759305362956899341565196149307920722584496262042495049470129206163453845586669893076751868768203223965054465112988411404911414421408194182135117230036272345838714893337909511265588449545766078020097289452632455171144230316123076943396842046688413694952431896698938199459749322282377723644494773023060209191154645266740069829414694247563417164114883375480782606032344411752329682266331068559686030507856422177773554264438083124200639790750710721925904038384758989649049958739234296200729545235398124198814022091893453029834064768225665235919827257391380873195507505705544171282831163907112692798948766599492974105891434346033078380866104573368836344677915211814411508369901029562207293985349389271691729019337944739325296597764169033733444760840104036395001079880503847408688752047753403820331043491757432428602395530319305185026848468604168218933456846830348425908491648664930620457013219102687349491246339113260260344092471922858935417728802016806409058063256028117474810029358698321116886997536486456238627558092391163681965226742395717525726394184288648995910350081568647570151760159635603475702245540815503886886365309993277855971876219854054554511579817122137190240587291785142074765117906190638869011346271241\n",
    "_____________________________________________________________________________________________________________________________________________________________________________________________________________________________________________________________________________________________________________________________________________________________________________________________________________________________________________________________________________________________________________________________________________________________________________________________________________________________________________________________________________________________________________________________________________________________________________________________________________________________________________________________________________________________________________________________________________________________________________________________________________________________________________________________________________________________________________________________________________________________________________________________________________________________________________________________________________________________________________________________________________________________________________________________________________________________________________________________________________________________________________________________________________________________________________________________________________________________________________________________________________________________________________________________________________________________________________________________________________________________________________________________________________________________________________________________________________________________________________________________________________________________________________________________________________________________________________________________________________________________________________________________________________________________________________________________________________________________________________________________________________________________________________________________________________________________________________________________________________________________________________________________________________________________________________________________________________________________________________________________________________________________________________________________________________________________________________________________________________________________________________________________________________________________________________________________________________________________________________________________________________________________________________________________________________________________________________________________________________________________________________________________________________________________________________________________________________________________________________________________________________________________________________________________________________________________________________________________________________________________________________________________________________________________________________________________________________________________________________________________________________________________________________________________________________________________________________________________________________________________________________________________________________________________________________________________________________________________________________________________________________________________________________________________________________________________________________________________________________________________________________________________________________________________________________________________________________________________________________________________________________________________________________________________________________________________________________________________________________________________________________________________________________________________________________________________________________________________________\n",
    "\n",
    "3562925256156025360562583829562812348146248063062460018004838454879420493550110786200168118651750659628300848032581117978378318980331548400753411779925074378764498282049219107964292961018591046731425386974025054205567036723195575308517118983114198162044532378759333685692276604675934014891259465437173184939589798287714216216094265302522231139014611519615658143579270209899949961757896479183953555993957130869419545636541397686500981734405257373254995599755618761964377637447885315068958711014014610190585778899683643920009129702516999926958709560733753648656406735521725791652130841905197795597551598279184100934763005551556090129139101864552127361717731903125013629361951054658442184776409339968608984279456038837549508236307489378539305323048815378850615798323531580378120253802044211864218144948545828707969361989053802293353795826579802885882488058727942629601586483864175574799726593537025043180353319762994146821319670483694079646800933021487882603343572073145404827707071311062294261568597033533477943954731602804815599944165500044403916172689545443890669358209451749670221175487975079601996085088622671082172554698768293376051465227713204253520335180689619149436235563176216028421521695770044631261989399455353119780488213937410072692666038111792981143212515504870090422889227525697023911023603485786382093749218448869408646462051687994057265580237912430564235617078693256028907455458229014998092826830316777742456577621808066837208753483355023259517158933755292111603248996057427897343623647107331480604909446280445572365839052263570298766945296316864103792671262913207737988013310228834522790610974960086206801877066066383237876684153775401018844023261299601053923639843266566682364881440917449620300300248088626268400543247202176859224295354358187959246945074260077911827265605130490233261402568936126287802255399770228992455671486063783807041285107831010547488313268030021089280709667856244564214740123787130607560625478520616044642096060081089181286856618043733213347430600263398108654542312081564242095923664681586482673997256755210029865725511382521803796145550305972143392618834921071756767801027597447109099938185365488442230833048222260855181346286571451998990930407881857912169568286348872938769711564585490893743403248525328286822470398675416827474921388277025375089774543141795958920283945407968461674127526575032733116640214032117722863772295633205278586157550471614721925975970893712771891686866600451820292292553195622425989190584041052224376850838274963918821186884572892538911373734319562146172818113552268732687343843621314985399234752199455278308655207441898281690525346491654764766370562708778097323900693805553269663899549102053622801680290273156084796952804010460588129090828253993475416352838811589837153609690947721907386218702156847863319115087602844347486933764817782080435211837846418280447675983859369749090794113446061049206070203202043254939948540494364969088005724484740467149738573689258786623534840127920533295313915639928242812366847589589115752577520080208679626895200593168576760678636186206525832420998610760698510921391204027198415479695826838852635717096812850891091983539093439257953150711524616796429604093022602650591995629964840069672032452836830878820878907010920338375241072376688711318973064100139914329717051585477530601939812989181117645322497302674372775928321237240130210349700617724569534694383021852508643752419128732253690686851310451904475121103426978011865324449160274037263168139627000747150113661823383154633532003597540665047473280262853072645135109150609163079970019133245204037067306400088826451281944291465776479230212666945834020488928048740112945389132824947831077389397748934956073025702392649498029227858430921791790063635527381979593233966751185534328055909022481338608730146355197873868493266697716985824701364987013375644014296294450725717376206223715815367207244944364591537067583884490253365685236353828436158803242833989178957643886990833681598083592152293671125773376252994698616343250391779631088969727885658383203480595996595660418640251674848792873275544900683493780823327405538822782473828861977910010710073122940094621918260427241809947114997926793757114966125984864733792918108311672635622462526381769562637063427321535844258451950512985783529937914593917648841028675312557856235631077415471479953523053303613957218417751573421592599394817326450967024071815056784327050340914846544835712803911152594005941619944405942580337736686693566230404055465297923649011295808\n",
    "```"
   ]
  },
  {
   "cell_type": "markdown",
   "id": "9e0397e9-4be2-4bfc-9e38-6358814fe031",
   "metadata": {},
   "source": [
    "As a reality check, looking at the first 50 decimal places, the exact value falls between our 500-move lower and upper bounds:\n",
    "\n",
    "```\n",
    "Lower bound:  0.50780277346091397777988206902864358081717127162441\n",
    "Exact answer: 0.50780277346091397787392387841954080716542767187942\n",
    "Upper bound:  0.50780277346091398242854850838580730082375585977029"
   ]
  },
  {
   "cell_type": "markdown",
   "id": "e9b21368-6a22-41e8-8018-3b9e210ca243",
   "metadata": {},
   "source": [
    "## Extras\n",
    "A couple things before we get to the code..."
   ]
  },
  {
   "cell_type": "markdown",
   "id": "68ba8cf3-0b19-4567-b726-022ffffc8b66",
   "metadata": {
    "jp-MarkdownHeadingCollapsed": true
   },
   "source": [
    "### Challenge\n",
    "Compute $P(99,99)$ by hand. If you've read this far, give it a try."
   ]
  },
  {
   "cell_type": "markdown",
   "id": "bdf3db55-262d-47a3-883e-a7cdf1a4ad75",
   "metadata": {},
   "source": [
    "### Accessibility\n",
    "\n",
    "I'm trying a lot of new things here, and I am grateful for any suggestions on improving accessibility for people with vision impairment."
   ]
  },
  {
   "cell_type": "markdown",
   "id": "36c4136d-7259-4b9c-88fe-dfd96e6f9131",
   "metadata": {},
   "source": [
    "### References\n",
    "\n",
    "\"Snakes and ladders.\" [https://en.wikipedia.org/wiki/Snakes_and_ladders](https://en.wikipedia.org/wiki/Snakes_and_ladders) <br />\n",
    "As of February 2024, the article misstates the methodology of the Audet paper below. I'm not sure whether the numbers or the explanation should be fixed.\n",
    "\n",
    "Barry, Nick. (2011, November 1.) \"Analysis of Chutes and Ladders.\" [http://www.datagenetics.com/blog/november12011/](http://www.datagenetics.com/blog/november12011/) <br /> This blog taught me about Markov chains. I found it after I realized I couldn't compute the solution recursively and wasn't sure where to go next.\n",
    "\n",
    "Audet, Daniel. (2012, December 4.) \"Probabilités et espérances dans le jeu de serpents et échelles à deux joueurs.\" [https://archimede.mat.ulaval.ca/amq/bulletins/dec12/Serpents.pdf](https://archimede.mat.ulaval.ca/amq/bulletins/dec12/Serpents.pdf) <br /> This paper contains a beautifully concise matrix equation for the complete solution of all two-player game states. It wasn't until the week after I completed my solution that I ran the entire paper through Google Translate and could appreciate this approach.\n",
    "\n",
    "Althoen, S. C., King, L., and Schilling, K. \"How Long is a Game of Snakes and Ladders?\" *The Mathematical Gazette*, Vol. 77, No. 478, pp. 71-76. <br /> This seems to be the root of all citations for the game's mathematics. The librarian I asked for help turned out to be a college student with a JSTOR login, and he printed me out a copy."
   ]
  },
  {
   "cell_type": "markdown",
   "id": "39e8f205-a8b2-4641-a791-2f61f4aa70ab",
   "metadata": {
    "jp-MarkdownHeadingCollapsed": true
   },
   "source": [
    "### Versions\n",
    "\n",
    "| Version | Date       | Description |\n",
    "| ------- | ---------- | ----------- |\n",
    "| draft   | 2024-02-?? | still copyediting, but it's up here! |"
   ]
  },
  {
   "cell_type": "markdown",
   "id": "def810fc-92fa-46de-b298-1281cb79a3ef",
   "metadata": {},
   "source": [
    "## The Code"
   ]
  },
  {
   "attachments": {},
   "cell_type": "markdown",
   "id": "0de2b0a6-a3c1-42fa-8827-074744b4c3b6",
   "metadata": {},
   "source": [
    "The Python code below can also be found in \n",
    "[chutes_and_ladders.py](chutes_and_ladders.py).\n",
    "\n",
    "`gmpy2` is a thin wrapper around [GMP](https://gmplib.org/). My recollection is that using GMP provided a major speed-up over `fractions.Fraction` and `sympy.Rational` on medium-size test boards. I converted to using GMP before finding the shortcut to skip most of the heavy calculations, and as a result I haven't actually computed the solution using anything other than GMP to manage the fractions.\n",
    "\n",
    "While exploring further potential speedups, I implemented the algorithm in C as well, [chutes_and_ladders.c](chutes_and_ladders.c), but it doesn't seem to run faster than Python. This feels reasonable, as they're both letting GMP do most of the work, and Python's list and dict are probably more efficient than my first real work in C."
   ]
  },
  {
   "cell_type": "code",
   "execution_count": 1,
   "id": "9ec94035-8183-411d-9eec-0515a10c8694",
   "metadata": {},
   "outputs": [
    {
     "name": "stdout",
     "output_type": "stream",
     "text": [
      "Python 3.11.5 (main, Sep 11 2023, 08:19:27) [Clang 14.0.6 ]\n",
      "gmpy2 2.1.2\n",
      "NumPy 1.23.5\n",
      "SymPy 1.12\n",
      "\n",
      "\n"
     ]
    }
   ],
   "source": [
    "import collections\n",
    "import functools\n",
    "import random\n",
    "import sys\n",
    "import time\n",
    "\n",
    "import gmpy2\n",
    "from gmpy2 import mpq\n",
    "import numpy as np\n",
    "import sympy\n",
    "from sympy import Rational\n",
    "\n",
    "print(f'Python {sys.version}')\n",
    "print(f'gmpy2 {gmpy2.version()}')\n",
    "print(f'NumPy {np.__version__}')\n",
    "print(f'SymPy {sympy.__version__}\\n\\n')"
   ]
  },
  {
   "cell_type": "markdown",
   "id": "180ca2a3-e0f8-4be7-afd8-05a8dea5fd84",
   "metadata": {},
   "source": [
    "To get reproducible simulations, we'll use a seed for the random number generator. I chose this particular seed because researching this puzzle had ups and downs that reminded me of Domingo's struggles to make the sword (in the book)."
   ]
  },
  {
   "cell_type": "code",
   "execution_count": 2,
   "id": "9d8ab6f7-d53f-4202-9deb-c67702cb64eb",
   "metadata": {},
   "outputs": [],
   "source": [
    "SEED = 'Domingo Montoya'"
   ]
  },
  {
   "cell_type": "markdown",
   "id": "0aa74bfe-3b34-43ab-91a8-6b5a39eb52d2",
   "metadata": {},
   "source": [
    "We'll use this timer function as a decorator."
   ]
  },
  {
   "cell_type": "code",
   "execution_count": 3,
   "id": "81b6b083-f117-4ae3-99a6-997371f41eb6",
   "metadata": {},
   "outputs": [],
   "source": [
    "def timer(func):\n",
    "    @functools.wraps(func)\n",
    "    def wrapper(*arg, **kw):\n",
    "        start = time.time()\n",
    "        result = func(*arg, **kw)\n",
    "        duration = time.time() - start\n",
    "        if duration > 60:\n",
    "            print('Time for {0}: {1} minutes'\n",
    "                  .format(func.__name__, round(duration / 60, 1)))\n",
    "        else:\n",
    "            print('Time for {0}: {1} seconds'\n",
    "                  .format(func.__name__, round(duration, 1)))\n",
    "        return result\n",
    "    return wrapper"
   ]
  },
  {
   "attachments": {},
   "cell_type": "markdown",
   "id": "a1e41606-087f-447e-a3e4-4b58b829aa7a",
   "metadata": {},
   "source": [
    "Putting all the functions/methods in one class spares us from having to pass the board or the spin size through one function after another. For narrative purposes, I'm splitting up the class across multiple cells. To clean it up, you could paste all the code together and remove the `class Board(Board):` lines redefining the class. This is how I generated [chutes_and_ladders.py](chutes_and_ladders.py).\n",
    "\n",
    "Chutes and ladders are functionally the same and are collectively referred to here as jumps. Only the `squares` on which a player can end their turn play a role in the analysis.\n",
    "\n",
    "While studying this problem, I created several smaller test boards. I've included validation of board input because if you make enough boards by hand, you'll probably accidentally specify a jump that leaves the board, as I did."
   ]
  },
  {
   "cell_type": "code",
   "execution_count": 4,
   "id": "2004e794-b241-42a1-a71e-3cb8ae929667",
   "metadata": {},
   "outputs": [],
   "source": [
    "class Board:\n",
    "    def __init__(self, text):\n",
    "        \"\"\"Chutes and Ladders board description format:\n",
    "        [start]\n",
    "        [end]\n",
    "        [spin_size]\n",
    "        [from] [to]\n",
    "        [from] [to]\n",
    "        ...\n",
    "        \"\"\"\n",
    "        lines = text.strip().split('\\n')\n",
    "        self.start = int(lines[0])\n",
    "        self.end = int(lines[1])\n",
    "        self.spin_size = int(lines[2])\n",
    "        self.jumps = {}\n",
    "        for line in lines[3:]:\n",
    "            square_from, square_to = map(int, line.split())\n",
    "            assert square_from not in self.jumps.keys(), f'multiple jumps from square {square_from}'\n",
    "            assert square_from not in self.jumps.values(), f'chained jumps at square {square_from}'\n",
    "            assert square_to not in self.jumps.keys(), f'chained jumps at square {square_to}'\n",
    "            assert self.start <= square_from <= self.end, f'jump from {square_from} starts outside board'\n",
    "            assert self.start <= square_to <= self.end, f'jump to {square_to} ends outside board'\n",
    "            self.jumps[square_from] = square_to\n",
    "\n",
    "        self.squares = [square for square in range(self.start, self.end + 1)\n",
    "                        if square not in self.jumps.keys()]\n",
    "        self.transition_matrix = None\n",
    "        self.linear_equation_matrix = None\n",
    "        self.solution = None\n",
    "\n",
    "    def __repr__(self):\n",
    "        return f\"Board(start={self.start}, end={self.end}; spin_size={self.spin_size}; {len(self.jumps)} jumps)\""
   ]
  },
  {
   "cell_type": "markdown",
   "id": "182ce763-6ecc-4311-b919-701c087c2eeb",
   "metadata": {},
   "source": [
    "Spins and moves follow directly from the game description:"
   ]
  },
  {
   "cell_type": "code",
   "execution_count": 5,
   "id": "1fc3f179-0afc-4624-87a2-371746b00393",
   "metadata": {},
   "outputs": [],
   "source": [
    "class Board(Board):\n",
    "    def spin(self):\n",
    "        return random.randint(1, self.spin_size)\n",
    "\n",
    "    def move(self, current):\n",
    "        land = current + self.spin()\n",
    "        if land > self.end:\n",
    "            return current\n",
    "        else:\n",
    "            return self.jumps.get(land, land)"
   ]
  },
  {
   "cell_type": "markdown",
   "id": "9b21d867-2020-4df6-b7c9-4f10b07bd18b",
   "metadata": {},
   "source": [
    "The two-player game counts the total moves by both players combined."
   ]
  },
  {
   "cell_type": "code",
   "execution_count": 6,
   "id": "c893e564-3235-47c1-b526-dcd3b5544c7a",
   "metadata": {},
   "outputs": [],
   "source": [
    "class Board(Board):\n",
    "    def play2(self):\n",
    "        moves = 0  # note that 1 full turn = 2 moves\n",
    "        current1 = self.start\n",
    "        current2 = self.start\n",
    "        while True:\n",
    "            current1 = self.move(current1)\n",
    "            moves += 1\n",
    "            if current1 == self.end:\n",
    "                return moves\n",
    "            current2 = self.move(current2)\n",
    "            moves += 1\n",
    "            if current2 == self.end:\n",
    "                return moves\n",
    "\n",
    "    def simulate2(self, N, seed=None):\n",
    "        if seed is not None:\n",
    "            random.seed(seed)\n",
    "        results = collections.Counter(self.play2() for _ in range(N))\n",
    "        return sum(v for (k, v) in results.items() if k % 2 == 1) / N"
   ]
  },
  {
   "cell_type": "markdown",
   "id": "88c60cae-e88c-4b1f-a5e3-ec89fd789157",
   "metadata": {},
   "source": [
    "The one-player simulation uses the diagonal squares approach."
   ]
  },
  {
   "cell_type": "code",
   "execution_count": 7,
   "id": "7f380795-5fea-4b30-b039-d22fa59d34c2",
   "metadata": {},
   "outputs": [],
   "source": [
    "class Board(Board):\n",
    "    def play1(self):\n",
    "        moves = 0\n",
    "        current = self.start\n",
    "        while current != self.end:\n",
    "            current = self.move(current)\n",
    "            moves += 1\n",
    "        return moves\n",
    "\n",
    "    def results1(self, N, seed=None):\n",
    "        if seed is not None:\n",
    "            random.seed(seed)\n",
    "        return collections.Counter(self.play1() for _ in range(N))\n",
    "\n",
    "    def simulate1(self, N, seed=None):\n",
    "        results = self.results1(N, seed=seed)\n",
    "        return 0.5 + 0.5 * sum(v ** 2 for v in results.values()) / (N ** 2)"
   ]
  },
  {
   "cell_type": "markdown",
   "id": "66c45f75-748d-4d5f-b32b-c75555fe4eb2",
   "metadata": {},
   "source": [
    "### Markov chain"
   ]
  },
  {
   "cell_type": "markdown",
   "id": "80d1bcf8-a199-4393-985a-1cc68f133677",
   "metadata": {},
   "source": [
    "Chutes and Ladders can be modeled as an absorbing Markov chain."
   ]
  },
  {
   "cell_type": "code",
   "execution_count": 8,
   "id": "51cde093-e3d7-489f-aeef-538676ddebba",
   "metadata": {},
   "outputs": [],
   "source": [
    "class Board(Board):\n",
    "    def create_transition_matrix(self):\n",
    "        m = np.full((len(self.squares), len(self.squares)), Rational(0, 1))\n",
    "        for i, val in enumerate(self.squares):\n",
    "            for spin in range(1, self.spin_size + 1):\n",
    "                land = val + spin\n",
    "                if land > self.end:\n",
    "                    j = i\n",
    "                else:\n",
    "                    j = self.squares.index(self.jumps.get(land, land))\n",
    "                m[i, j] += Rational(1, self.spin_size)\n",
    "        self.transition_matrix = m"
   ]
  },
  {
   "cell_type": "code",
   "execution_count": 9,
   "id": "85271a51-3585-49b7-a5a5-4e69f44c0144",
   "metadata": {},
   "outputs": [],
   "source": [
    "def half_square(rational):\n",
    "    return rational ** 2 / 2"
   ]
  },
  {
   "cell_type": "code",
   "execution_count": 10,
   "id": "71eabfc7-4d8e-4046-8eca-57ef7e71d322",
   "metadata": {},
   "outputs": [],
   "source": [
    "class Board(Board):\n",
    "    @timer\n",
    "    def markov(self, moves):\n",
    "        if self.transition_matrix is None:\n",
    "            self.create_transition_matrix()\n",
    "        lower_bound = Rational(1, 2)\n",
    "        upper_bound = Rational(1, 1)\n",
    "        state = np.array([Rational(1, 1)] +\n",
    "                         [Rational(0, 1)] * (self.transition_matrix.shape[0] - 1))\n",
    "        cumulative = state[-1]\n",
    "        for move in range(1, moves + 1):\n",
    "            state = state @ self.transition_matrix\n",
    "            current_increase = state[-1] - cumulative\n",
    "            lower_bound += half_square(current_increase)\n",
    "            remaining = Rational(1, 1) - state[-1]\n",
    "            upper_bound = lower_bound + half_square(remaining)\n",
    "            cumulative = state[-1]\n",
    "        return lower_bound, upper_bound"
   ]
  },
  {
   "cell_type": "markdown",
   "id": "61a4a305-bc1c-401a-a31f-8cb115eee806",
   "metadata": {},
   "source": [
    "### System of linear equations"
   ]
  },
  {
   "cell_type": "markdown",
   "id": "47626312-841a-4db4-9c4d-09dff86a18c3",
   "metadata": {},
   "source": [
    "Smaller boards can be solved with the linear algebra solvers in NumPy or SymPy. Those solutions should serve to verify the results of this code."
   ]
  },
  {
   "cell_type": "code",
   "execution_count": 11,
   "id": "083956ec-daed-4536-aacd-7a2b75d66077",
   "metadata": {},
   "outputs": [],
   "source": [
    "def get_index(i, j, length):\n",
    "    \"\"\"Assign a unique index for each entry in `length`-by-`length` array.\"\"\"\n",
    "    return i * length + j"
   ]
  },
  {
   "cell_type": "markdown",
   "id": "00e76e4c-a1a2-4980-b349-4ecd18927d8b",
   "metadata": {},
   "source": [
    "We first create a sparse square matrix with whose side lengths are each `length` * `length`. The entries are returned as a dict of ordered pairs. We'll set up for Gaussian elimination in the way that would make sense, with P(0,0) in the first column, but instead of zeroing out the bottom-left triangle, we'll zero out the upper-right triangle, working right to left and bottom to top.\n",
    "\n",
    "The starting values for this matrix come from the equations for each probability, scaled up by the spin size so we're starting with whole numbers."
   ]
  },
  {
   "cell_type": "code",
   "execution_count": 12,
   "id": "8141b5dd-bd7f-4141-9dfb-fa1e5cf7d83f",
   "metadata": {},
   "outputs": [],
   "source": [
    "def create_linear_equations_matrix(board):\n",
    "    squares = board.squares[:-1]  # excludes board.end\n",
    "    length = len(squares)\n",
    "    entries = collections.defaultdict(int)\n",
    "    for i, v1 in enumerate(squares):\n",
    "        for j, v2 in enumerate(squares):\n",
    "            row_index = get_index(i, j, length)\n",
    "            entries[(row_index, row_index)] = mpq(board.spin_size, 1)\n",
    "            for spin in range(1, board.spin_size + 1):\n",
    "                land = v1 + spin\n",
    "                if land > board.end:\n",
    "                    new_v1 = v1\n",
    "                    new_i = i\n",
    "                else:\n",
    "                    new_v1 = board.jumps.get(land, land)\n",
    "                    if new_v1 == board.end:\n",
    "                        continue\n",
    "                    new_i = board.squares.index(new_v1)\n",
    "                col_index = get_index(j, new_i, length)\n",
    "                entries[(row_index, col_index)] += mpq(1, 1)\n",
    "    return entries"
   ]
  },
  {
   "cell_type": "markdown",
   "id": "bede4fdf-fc44-4342-971d-84095c019aa6",
   "metadata": {},
   "source": [
    "We'll maintain two lists of arrays, one by row and one by column. We'll store two copies of each value above the diagonal; I didn't see a clear way around that. The rows are already in the desired order because the diagonal is nonzero for all rows. The only operation we'll perform is adding a multiple of one row to another, one element at a time. We'll work through the columns from right to left."
   ]
  },
  {
   "cell_type": "code",
   "execution_count": 13,
   "id": "65b42278-a484-43db-853a-a79522f0ed42",
   "metadata": {},
   "outputs": [],
   "source": [
    "@timer\n",
    "def solve(board, linear_equations_matrix=None):\n",
    "    length = len(board.squares) - 1\n",
    "    row_count = length * length\n",
    "    rows = []\n",
    "    above = []\n",
    "    for _ in range(row_count):\n",
    "        rows.append(collections.defaultdict(int))\n",
    "        above.append(collections.defaultdict(int))\n",
    "\n",
    "    if linear_equations_matrix is None:\n",
    "        linear_equations_matrix = create_linear_equations_matrix(board)\n",
    "    for (r, c), value in linear_equations_matrix.items():\n",
    "        rows[r][c] = value\n",
    "        if r < c:\n",
    "            above[c][r] = value\n",
    "\n",
    "    for r in range(row_count):\n",
    "        rows[r][row_count] = board.spin_size\n",
    "\n",
    "    for rev_c, col_d_above in enumerate(reversed(above)):  # right to left\n",
    "        c = row_count - 1 - rev_c\n",
    "        row_from = rows[c]\n",
    "        diagonal_value = row_from[c]\n",
    "        while col_d_above:\n",
    "            r, value = col_d_above.popitem()\n",
    "            factor = value / diagonal_value\n",
    "            row_to = rows[r]\n",
    "            for col, from_val in row_from.items():\n",
    "                if col == c:\n",
    "                    del row_to[col]\n",
    "                    continue\n",
    "                adjustment = factor * from_val\n",
    "                row_to[col] -= adjustment\n",
    "                if r < col < row_count:\n",
    "                    above[col][r] = row_to[col]\n",
    "    assert not any(above)\n",
    "\n",
    "    return rows[0][row_count] / rows[0][0]"
   ]
  },
  {
   "cell_type": "markdown",
   "id": "24575b06-3a4c-4b77-bd19-42b2e3412b0e",
   "metadata": {},
   "source": [
    "Full board:"
   ]
  },
  {
   "cell_type": "code",
   "execution_count": 14,
   "id": "90846c3f-f6a8-4388-889a-abeb6a9d0974",
   "metadata": {},
   "outputs": [],
   "source": [
    "board = Board(\"\"\"\n",
    "0\n",
    "100\n",
    "6\n",
    "1 38\n",
    "4 14\n",
    "9 31\n",
    "21 42\n",
    "28 84\n",
    "36 44\n",
    "51 67\n",
    "71 91\n",
    "80 100\n",
    "98 78\n",
    "95 75\n",
    "93 73\n",
    "87 24\n",
    "64 60\n",
    "62 19\n",
    "56 53\n",
    "49 11\n",
    "48 26\n",
    "16 6\n",
    "\"\"\")"
   ]
  },
  {
   "cell_type": "code",
   "execution_count": 15,
   "id": "bd88f403-137c-449a-ae47-1190d97cfe9e",
   "metadata": {},
   "outputs": [
    {
     "data": {
      "text/plain": [
       "Board(start=0, end=100; spin_size=6; 19 jumps)"
      ]
     },
     "execution_count": 15,
     "metadata": {},
     "output_type": "execute_result"
    }
   ],
   "source": [
    "board"
   ]
  },
  {
   "cell_type": "markdown",
   "id": "bb5a3e6e-1427-467e-b3c2-49894d9326c9",
   "metadata": {},
   "source": [
    "Sample test board:"
   ]
  },
  {
   "cell_type": "code",
   "execution_count": 16,
   "id": "63a7659a-8376-41ae-b046-15232d42e9b8",
   "metadata": {},
   "outputs": [],
   "source": [
    "board_10 = Board(\"\"\"\n",
    "0\n",
    "10\n",
    "6\n",
    "4 7\n",
    "9 2\n",
    "\"\"\")"
   ]
  },
  {
   "cell_type": "code",
   "execution_count": 17,
   "id": "391a1143-50bb-48c5-8d5b-b9ec8e03e0a4",
   "metadata": {},
   "outputs": [
    {
     "data": {
      "text/plain": [
       "Board(start=0, end=10; spin_size=6; 2 jumps)"
      ]
     },
     "execution_count": 17,
     "metadata": {},
     "output_type": "execute_result"
    }
   ],
   "source": [
    "board_10"
   ]
  },
  {
   "cell_type": "markdown",
   "id": "2e4fb867-9a26-499e-92e9-aee5cdb7e11f",
   "metadata": {},
   "source": [
    "### Simulations"
   ]
  },
  {
   "cell_type": "code",
   "execution_count": 18,
   "id": "e74b62f5-589b-4a51-9c68-837217160990",
   "metadata": {},
   "outputs": [
    {
     "data": {
      "text/plain": [
       "0.5116"
      ]
     },
     "execution_count": 18,
     "metadata": {},
     "output_type": "execute_result"
    }
   ],
   "source": [
    "board.simulate2(10000, SEED)"
   ]
  },
  {
   "cell_type": "code",
   "execution_count": 19,
   "id": "c9b5ff1e-7e30-4caa-9093-7167a2424fe0",
   "metadata": {},
   "outputs": [
    {
     "data": {
      "text/plain": [
       "[0.5028,\n",
       " 0.5139,\n",
       " 0.5077,\n",
       " 0.5127,\n",
       " 0.5072,\n",
       " 0.5077,\n",
       " 0.5026,\n",
       " 0.4988,\n",
       " 0.5067,\n",
       " 0.5001]"
      ]
     },
     "execution_count": 19,
     "metadata": {},
     "output_type": "execute_result"
    }
   ],
   "source": [
    "[board.simulate2(10000) for _ in range(10)]"
   ]
  },
  {
   "cell_type": "code",
   "execution_count": 20,
   "id": "fc830c42-0620-4563-a5ae-ec96b56195f0",
   "metadata": {},
   "outputs": [],
   "source": [
    "results1 = board.results1(10000, SEED)"
   ]
  },
  {
   "cell_type": "code",
   "execution_count": 21,
   "id": "165359e1-650d-4c1f-afdd-055e8280f399",
   "metadata": {},
   "outputs": [
    {
     "name": "stdout",
     "output_type": "stream",
     "text": [
      "Most common: [(21, 280), (23, 248), (25, 243)]\n",
      "Fewest turns: (7, 15)\n",
      "Most turns: (213, 1)\n"
     ]
    }
   ],
   "source": [
    "print(f'Most common: {results1.most_common(3)}')\n",
    "print(f'Fewest turns: {min(results1.items())}')\n",
    "print(f'Most turns: {max(results1.items())}')"
   ]
  },
  {
   "cell_type": "code",
   "execution_count": 22,
   "id": "f518e8fb-907c-45f0-8afc-0cedb625546e",
   "metadata": {},
   "outputs": [
    {
     "data": {
      "text/plain": [
       "0.50774533"
      ]
     },
     "execution_count": 22,
     "metadata": {},
     "output_type": "execute_result"
    }
   ],
   "source": [
    "board.simulate1(10000, SEED)"
   ]
  },
  {
   "cell_type": "code",
   "execution_count": 23,
   "id": "cc6043f2-2950-41f4-ad3c-b56eabf0c0e4",
   "metadata": {
    "scrolled": true
   },
   "outputs": [
    {
     "data": {
      "text/plain": [
       "[0.50785445, 0.50794481, 0.5078013, 0.50776591]"
      ]
     },
     "execution_count": 23,
     "metadata": {},
     "output_type": "execute_result"
    }
   ],
   "source": [
    "[board.simulate1(10000) for _ in range(4)]"
   ]
  },
  {
   "cell_type": "code",
   "execution_count": 24,
   "id": "34c7c0fc-218a-4fec-90b7-c88353966058",
   "metadata": {
    "scrolled": true
   },
   "outputs": [
    {
     "name": "stdout",
     "output_type": "stream",
     "text": [
      "Time for markov: 0.1 seconds\n"
     ]
    },
    {
     "data": {
      "text/plain": [
       "[0.5000354014697371, 0.9871574175503698]"
      ]
     },
     "execution_count": 24,
     "metadata": {},
     "output_type": "execute_result"
    }
   ],
   "source": [
    "list(map(float, board.markov(9)))"
   ]
  },
  {
   "cell_type": "code",
   "execution_count": 25,
   "id": "a779f32b-f6fb-4d73-8600-3cbe09273542",
   "metadata": {},
   "outputs": [
    {
     "name": "stdout",
     "output_type": "stream",
     "text": [
      "Time for markov: 2.0 seconds\n"
     ]
    },
    {
     "data": {
      "text/plain": [
       "[0.5077919995055961, 0.508324577264544]"
      ]
     },
     "execution_count": 25,
     "metadata": {},
     "output_type": "execute_result"
    }
   ],
   "source": [
    "list(map(float, board.markov(100)))"
   ]
  },
  {
   "cell_type": "code",
   "execution_count": 26,
   "id": "51ab0a97-171b-4df5-9c47-eb737ff0b284",
   "metadata": {},
   "outputs": [
    {
     "name": "stdout",
     "output_type": "stream",
     "text": [
      "Time for markov: 11.8 seconds\n"
     ]
    },
    {
     "data": {
      "text/plain": [
       "[0.50780277346091397777988206902864358081717127162441,\n",
       " 0.50780277346091398242854850838580730082375585977029]"
      ]
     },
     "execution_count": 26,
     "metadata": {},
     "output_type": "execute_result"
    }
   ],
   "source": [
    "[rat.evalf(50) for rat in board.markov(500)]"
   ]
  },
  {
   "cell_type": "markdown",
   "id": "5def300e-2ccf-49d9-b4a0-7db4b53c942c",
   "metadata": {},
   "source": [
    "Processing time is sensitive to available memory. I've had this take as little as 100 minutes (1.7 hours) and as much as 558 minutes (9.3 hours), perhaps due to what other programs I had running and what hard drive space I had available at the time."
   ]
  },
  {
   "cell_type": "code",
   "execution_count": 27,
   "id": "0b4bf0dd-b9ad-4ac4-8afc-ecc2f17b1caf",
   "metadata": {},
   "outputs": [
    {
     "name": "stdout",
     "output_type": "stream",
     "text": [
      "Time for solve: 99.1 minutes\n"
     ]
    }
   ],
   "source": [
    "exact = solve(board)"
   ]
  },
  {
   "cell_type": "code",
   "execution_count": 28,
   "id": "af2b496d-8ddf-4aa1-8b2e-ecb85c0df67a",
   "metadata": {},
   "outputs": [
    {
     "name": "stdout",
     "output_type": "stream",
     "text": [
      "Numerator:\n",
      "1809263326709967051434347748525524552353980736578570502627590624764847314355017039986104115847991384234662504363231466556985613757780988520248565824574408393552615380403519856337917904701957187045977231110900180221321700016323386317873465278539432717441580849567573763198571783691008196513040227320444259333668655904354638184885203732951005860075558037455260709968792169797211315388487495736543600141105406514223050890185979123942182160579007991165046575087133020637841513472458701447995609783728952820883083133467300301797183623285028134680734192863955960869149355908517132878268860120244568889212288296251127692466318894405045567415416297421102691445748223662107348226671486641360646416666544301997723279153560744894981278534523632702072407639621526133837472033293519393378064191283327302938057985527706052299959262279052696303444320893079294163470093025047542661982066478355416786486643262807218542322327801528919492821884568466005036364414079531413905016854354987031751738176660536568768394882466528787938033486013039010566818026032353210417984253298851914160586106855821775382961670199120181389897633546604308241383809623868294160088201129933612552912259128835897621946525206514135905582202658646367051035380933843504183539248284055678405008218722065238585409775644230120606246916360864308768445240853406760656719124431148801134288566469343559768847639184498961165230793430338640486427792532585916925598757526769586048047138642837038001950771511211755686544661234407486746359381890395210332672663825680607262301742383396135843902438083209410241949585561476947147437558824740984071750683435323210066601143940505283747615159833356640102075678487380750212696222871349228888290974743738575064847651756083729796410167122126348746744612649428530828450306063912830861027612755759572433896788451992869437969248939588997516882164250962283664823763030632814427203578208140396728228538756292449088708378105601724334289245023859881599960206367879528176671687360382920255222569654785175711767622820090311684051304045716677251794132789057109725158680770680261532726127185796478956942898755190663133000504292823580804477297320493223739581405179696751821516354574326891922972669548964541338587448728652722911703330713132125405574177489514621546749197018207987586224619078772303452413680414435983821515595216498122522054770757833618271779849077910639961478890291717496342851762695639988559766123979825935469788170403186576837473116127993927444778994020876456181750248020059697283142546379101588537163020990745640286443723516631362168574538779693815164927490805653793897423238023726112874428679726060077405104412724889180940978900686309645336254723335455642204598004279668434083520895051656387777821778853438397606811491540313845823674269882487521182935482070011929420963258162573944473755512897169073906252090520302358390666253498663475888930120219376120970377129300787850086662646229982685010583713658247990087089651536946163924037120580280747501391113872738502404376460210489058497878869369811253579136681354537530409613425521438343328000377421586090490446782368765468152505866200366387427541743492125011418881220115742446723154530177665650660791112228154745574711750200437718739211699622830776692942663820049611161234158983520941736095930746062943759305362956899341565196149307920722584496262042495049470129206163453845586669893076751868768203223965054465112988411404911414421408194182135117230036272345838714893337909511265588449545766078020097289452632455171144230316123076943396842046688413694952431896698938199459749322282377723644494773023060209191154645266740069829414694247563417164114883375480782606032344411752329682266331068559686030507856422177773554264438083124200639790750710721925904038384758989649049958739234296200729545235398124198814022091893453029834064768225665235919827257391380873195507505705544171282831163907112692798948766599492974105891434346033078380866104573368836344677915211814411508369901029562207293985349389271691729019337944739325296597764169033733444760840104036395001079880503847408688752047753403820331043491757432428602395530319305185026848468604168218933456846830348425908491648664930620457013219102687349491246339113260260344092471922858935417728802016806409058063256028117474810029358698321116886997536486456238627558092391163681965226742395717525726394184288648995910350081568647570151760159635603475702245540815503886886365309993277855971876219854054554511579817122137190240587291785142074765117906190638869011346271241\n"
     ]
    }
   ],
   "source": [
    "print(f\"Numerator:\\n{exact.numerator}\")"
   ]
  },
  {
   "cell_type": "code",
   "execution_count": 29,
   "id": "1ed2510d-f1b1-4780-9bbc-34c62d3751fe",
   "metadata": {},
   "outputs": [
    {
     "name": "stdout",
     "output_type": "stream",
     "text": [
      "Denominator:\n",
      "3562925256156025360562583829562812348146248063062460018004838454879420493550110786200168118651750659628300848032581117978378318980331548400753411779925074378764498282049219107964292961018591046731425386974025054205567036723195575308517118983114198162044532378759333685692276604675934014891259465437173184939589798287714216216094265302522231139014611519615658143579270209899949961757896479183953555993957130869419545636541397686500981734405257373254995599755618761964377637447885315068958711014014610190585778899683643920009129702516999926958709560733753648656406735521725791652130841905197795597551598279184100934763005551556090129139101864552127361717731903125013629361951054658442184776409339968608984279456038837549508236307489378539305323048815378850615798323531580378120253802044211864218144948545828707969361989053802293353795826579802885882488058727942629601586483864175574799726593537025043180353319762994146821319670483694079646800933021487882603343572073145404827707071311062294261568597033533477943954731602804815599944165500044403916172689545443890669358209451749670221175487975079601996085088622671082172554698768293376051465227713204253520335180689619149436235563176216028421521695770044631261989399455353119780488213937410072692666038111792981143212515504870090422889227525697023911023603485786382093749218448869408646462051687994057265580237912430564235617078693256028907455458229014998092826830316777742456577621808066837208753483355023259517158933755292111603248996057427897343623647107331480604909446280445572365839052263570298766945296316864103792671262913207737988013310228834522790610974960086206801877066066383237876684153775401018844023261299601053923639843266566682364881440917449620300300248088626268400543247202176859224295354358187959246945074260077911827265605130490233261402568936126287802255399770228992455671486063783807041285107831010547488313268030021089280709667856244564214740123787130607560625478520616044642096060081089181286856618043733213347430600263398108654542312081564242095923664681586482673997256755210029865725511382521803796145550305972143392618834921071756767801027597447109099938185365488442230833048222260855181346286571451998990930407881857912169568286348872938769711564585490893743403248525328286822470398675416827474921388277025375089774543141795958920283945407968461674127526575032733116640214032117722863772295633205278586157550471614721925975970893712771891686866600451820292292553195622425989190584041052224376850838274963918821186884572892538911373734319562146172818113552268732687343843621314985399234752199455278308655207441898281690525346491654764766370562708778097323900693805553269663899549102053622801680290273156084796952804010460588129090828253993475416352838811589837153609690947721907386218702156847863319115087602844347486933764817782080435211837846418280447675983859369749090794113446061049206070203202043254939948540494364969088005724484740467149738573689258786623534840127920533295313915639928242812366847589589115752577520080208679626895200593168576760678636186206525832420998610760698510921391204027198415479695826838852635717096812850891091983539093439257953150711524616796429604093022602650591995629964840069672032452836830878820878907010920338375241072376688711318973064100139914329717051585477530601939812989181117645322497302674372775928321237240130210349700617724569534694383021852508643752419128732253690686851310451904475121103426978011865324449160274037263168139627000747150113661823383154633532003597540665047473280262853072645135109150609163079970019133245204037067306400088826451281944291465776479230212666945834020488928048740112945389132824947831077389397748934956073025702392649498029227858430921791790063635527381979593233966751185534328055909022481338608730146355197873868493266697716985824701364987013375644014296294450725717376206223715815367207244944364591537067583884490253365685236353828436158803242833989178957643886990833681598083592152293671125773376252994698616343250391779631088969727885658383203480595996595660418640251674848792873275544900683493780823327405538822782473828861977910010710073122940094621918260427241809947114997926793757114966125984864733792918108311672635622462526381769562637063427321535844258451950512985783529937914593917648841028675312557856235631077415471479953523053303613957218417751573421592599394817326450967024071815056784327050340914846544835712803911152594005941619944405942580337736686693566230404055465297923649011295808\n"
     ]
    }
   ],
   "source": [
    "print(f\"Denominator:\\n{exact.denominator}\")"
   ]
  }
 ],
 "metadata": {
  "kernelspec": {
   "display_name": "Python 3 (ipykernel)",
   "language": "python",
   "name": "python3"
  },
  "language_info": {
   "codemirror_mode": {
    "name": "ipython",
    "version": 3
   },
   "file_extension": ".py",
   "mimetype": "text/x-python",
   "name": "python",
   "nbconvert_exporter": "python",
   "pygments_lexer": "ipython3",
   "version": "3.11.5"
  }
 },
 "nbformat": 4,
 "nbformat_minor": 5
}
