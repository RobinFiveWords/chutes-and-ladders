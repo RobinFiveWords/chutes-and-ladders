{
 "cells": [
  {
   "cell_type": "markdown",
   "id": "9964f448-9eb7-4e69-90ed-adbba8cec174",
   "metadata": {},
   "source": [
    "<script>\n",
    "MathJax = { \n",
    "    tex: { \n",
    "        tags: 'none' }\n",
    "     };\n",
    "</script>"
   ]
  },
  {
   "attachments": {},
   "cell_type": "markdown",
   "id": "c9432117-44db-441f-997d-72e08d5e3553",
   "metadata": {},
   "source": [
    "$$\n",
    "\\begin{align}\n",
    "\\text{The p}&\\text{robability that player one wins} \\\\\n",
    "    = \\, &1/6 * (\\text{the probability that player one wins, having started with a 1}) \\\\\n",
    "    + \\, &1/6 * (\\text{the probability that player one wins, having started with a 2}) \\\\\n",
    "    + \\, &1/6 * (\\text{the probability that player one wins, having started with a 3}) \\\\\n",
    "    + \\, &1/6 * (\\text{the probability that player one wins, having started with a 4}) \\\\\n",
    "    + \\, &1/6 * (\\text{the probability that player one wins, having started with a 5}) \\\\\n",
    "    + \\, &1/6 * (\\text{the probability that player one wins, having started with a 6}) \\\\\n",
    "\\end{align}\n",
    "$$"
   ]
  },
  {
   "cell_type": "markdown",
   "id": "9cdbb452-2e67-41dd-9ceb-f5c18df667c4",
   "metadata": {},
   "source": [
    "```math\n",
    "\\text{The p}&\\text{robability that player one wins} \\\\\n",
    "    = \\, &1/6 * (\\text{the probability that player one wins, having started with a 1}) \\\\\n",
    "    + \\, &1/6 * (\\text{the probability that player one wins, having started with a 2}) \\\\\n",
    "    + \\, &1/6 * (\\text{the probability that player one wins, having started with a 3}) \\\\\n",
    "    + \\, &1/6 * (\\text{the probability that player one wins, having started with a 4}) \\\\\n",
    "    + \\, &1/6 * (\\text{the probability that player one wins, having started with a 5}) \\\\\n",
    "    + \\, &1/6 * (\\text{the probability that player one wins, having started with a 6}) \\\\\n",
    "```"
   ]
  }
 ],
 "metadata": {
  "kernelspec": {
   "display_name": "Python 3 (ipykernel)",
   "language": "python",
   "name": "python3"
  },
  "language_info": {
   "codemirror_mode": {
    "name": "ipython",
    "version": 3
   },
   "file_extension": ".py",
   "mimetype": "text/x-python",
   "name": "python",
   "nbconvert_exporter": "python",
   "pygments_lexer": "ipython3",
   "version": "3.11.5"
  }
 },
 "nbformat": 4,
 "nbformat_minor": 5
}
